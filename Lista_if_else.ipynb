{
  "nbformat": 4,
  "nbformat_minor": 0,
  "metadata": {
    "colab": {
      "provenance": [],
      "authorship_tag": "ABX9TyMWa4xwD+F1ROU+cmCsfzsd",
      "include_colab_link": true
    },
    "kernelspec": {
      "name": "python3",
      "display_name": "Python 3"
    },
    "language_info": {
      "name": "python"
    }
  },
  "cells": [
    {
      "cell_type": "markdown",
      "metadata": {
        "id": "view-in-github",
        "colab_type": "text"
      },
      "source": [
        "<a href=\"https://colab.research.google.com/github/joaopedroang/Colaboratory/blob/main/Lista_if_else.ipynb\" target=\"_parent\"><img src=\"https://colab.research.google.com/assets/colab-badge.svg\" alt=\"Open In Colab\"/></a>"
      ]
    },
    {
      "cell_type": "code",
      "execution_count": 4,
      "metadata": {
        "colab": {
          "base_uri": "https://localhost:8080/"
        },
        "id": "Y1HxfIPG-BDf",
        "outputId": "4ea4a71b-0be5-49a4-eea8-9d935911d458"
      },
      "outputs": [
        {
          "output_type": "stream",
          "name": "stdout",
          "text": [
            "Insira o primeiro número: 15\n",
            "Insira o segundo número: 5\n",
            "Insira o terceiro número: 25\n",
            "20  é menor que 25\n"
          ]
        }
      ],
      "source": [
        "# 1) Desenvolva um algoritmo que solicite três números A, B e C. \n",
        "# Imprima na tela se A+B é menor que C.\n",
        "\n",
        "A = int(input('Insira o primeiro número: '))\n",
        "B = int(input('Insira o segundo número: '))\n",
        "C = int(input('Insira o terceiro número: '))\n",
        "\n",
        "if (A + B < C):\n",
        "  print(A+B, ' é menor que', C)"
      ]
    },
    {
      "cell_type": "code",
      "source": [
        "# 2) Desenvolva um programa que recebe um número e informa na tela se é par ou impar.\n",
        "\n",
        "n = int(input('Insira um número: '))\n",
        "\n",
        "if (n % 2 == 0):\n",
        "  print('É par!')\n",
        "else:\n",
        "  print('É ímpar!')"
      ],
      "metadata": {
        "colab": {
          "base_uri": "https://localhost:8080/"
        },
        "id": "XRfTzYcVA8Xo",
        "outputId": "1a48b1f3-6b3d-4037-d018-91c2c6e9adf4"
      },
      "execution_count": 5,
      "outputs": [
        {
          "output_type": "stream",
          "name": "stdout",
          "text": [
            "Insira um número: 5\n",
            "É ímpar!\n"
          ]
        }
      ]
    },
    {
      "cell_type": "code",
      "source": [
        "# 3) Escreva um algoritmo que recebe um número e diz se ele é múltiplo de 3.\n",
        "\n",
        "num = int(input('Insira um número: '))\n",
        "\n",
        "if (num % 3 == 0):\n",
        "  print('É múltiplo de 3!')\n",
        "else:\n",
        "  print('Não é múltiplo de 3!')"
      ],
      "metadata": {
        "colab": {
          "base_uri": "https://localhost:8080/"
        },
        "id": "cszKyuTaBbBK",
        "outputId": "2e3b9aaf-c864-44cf-f594-a1df63a445d2"
      },
      "execution_count": 8,
      "outputs": [
        {
          "output_type": "stream",
          "name": "stdout",
          "text": [
            "Insira um número: 3\n",
            "É múltiplo de 3!\n"
          ]
        }
      ]
    },
    {
      "cell_type": "code",
      "source": [
        "# 4) Escreva um algoritmo que solicita o nome da pessoa, e o ano de nascimento.\n",
        "# Então, calcula a idade e, se for menor que 18 anos, solicita o nome da Mãe.\n",
        "\n",
        "nome = input('Insira seu nome: ')\n",
        "ano = int(input('Insira o ano que você nasceu: '))\n",
        "idade = 2023 - ano\n",
        "\n",
        "if(idade < 18):\n",
        "  print(idade, 'anos. Informe o nome da sua mãe:')\n",
        "else:\n",
        "  print(idade, 'anos.')"
      ],
      "metadata": {
        "colab": {
          "base_uri": "https://localhost:8080/"
        },
        "id": "orC6FJdTCKUH",
        "outputId": "16c406bd-f993-47ef-9c3e-64820b6f92cf"
      },
      "execution_count": 11,
      "outputs": [
        {
          "output_type": "stream",
          "name": "stdout",
          "text": [
            "Insira seu nome: João Pedro\n",
            "Insira o ano que você nasceu: 2000\n",
            "23 anos.\n"
          ]
        }
      ]
    },
    {
      "cell_type": "code",
      "source": [
        "# 5)Faça um algoritmo que solicita um número, e retorna: \n",
        "# O dobro caso o número seja positivo, o triplo caso o número seja negativo.\n",
        "\n",
        "n = int(input('Insira um número: '))\n",
        "\n",
        "if(n < 0):\n",
        "  print(n*3)\n",
        "else:\n",
        "  print(n*2)"
      ],
      "metadata": {
        "colab": {
          "base_uri": "https://localhost:8080/"
        },
        "id": "MP18_iuhEqKV",
        "outputId": "23539963-252f-4626-aaa7-8cb9f0a8975b"
      },
      "execution_count": 14,
      "outputs": [
        {
          "output_type": "stream",
          "name": "stdout",
          "text": [
            "Insira um número: -5\n",
            "-15\n"
          ]
        }
      ]
    },
    {
      "cell_type": "code",
      "source": [
        "# 6) Escreva um algoritmo que recebe 2 valores inteiros e \n",
        "# escreve na tela qual é o maior.\n",
        "\n",
        "n1 = int(input('Insira um número: '))\n",
        "n2 = int(input('Insira outro número: '))\n",
        "\n",
        "if (n1>n2)"
      ],
      "metadata": {
        "id": "9ulISoCrGip9"
      },
      "execution_count": null,
      "outputs": []
    }
  ]
}