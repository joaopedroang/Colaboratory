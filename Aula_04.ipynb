{
  "nbformat": 4,
  "nbformat_minor": 0,
  "metadata": {
    "colab": {
      "provenance": [],
      "authorship_tag": "ABX9TyOB4CJbWpi4nE54JkBdX0+s",
      "include_colab_link": true
    },
    "kernelspec": {
      "name": "python3",
      "display_name": "Python 3"
    },
    "language_info": {
      "name": "python"
    }
  },
  "cells": [
    {
      "cell_type": "markdown",
      "metadata": {
        "id": "view-in-github",
        "colab_type": "text"
      },
      "source": [
        "<a href=\"https://colab.research.google.com/github/joaopedroang/estudos-programacao/blob/main/Aula_04.ipynb\" target=\"_parent\"><img src=\"https://colab.research.google.com/assets/colab-badge.svg\" alt=\"Open In Colab\"/></a>"
      ]
    },
    {
      "cell_type": "markdown",
      "source": [],
      "metadata": {
        "id": "02LpiJxHF-7N"
      }
    },
    {
      "cell_type": "code",
      "execution_count": null,
      "metadata": {
        "id": "91XnW5i_CnaJ"
      },
      "outputs": [],
      "source": [
        "##Pede ao usuário para inserir um número inteiro maior que 1\n",
        "##O programa deve imprimir todos os números até o número digitado\n",
        "\n",
        "cont = 0\n",
        "num = []\n",
        "\n",
        "tam = int(input('Insira um número inteiro:'))\n",
        "\n",
        "while (cont <= tam):\n",
        "  if(tam > 1):\n",
        "    num.append(cont)\n",
        "  else:\n",
        "    print('Digite um número maior que 1:')\n",
        "  cont += 1\n",
        "\n",
        "print (num)"
      ]
    },
    {
      "cell_type": "code",
      "source": [
        "##Pede ao usuário para inserir um número inteiro maior que 0\n",
        "##O programa deve imprimir a soma de todos os números até o número digitado\n",
        "\n",
        "cont = 0\n",
        "num = []\n",
        "tam = int(input('Insira um número inteiro:'))\n",
        "while (cont <= tam):\n",
        "  num.append(cont)\n",
        "  cont += 1\n",
        "print(sum(num))"
      ],
      "metadata": {
        "id": "kjwhJW-xHZAs"
      },
      "execution_count": null,
      "outputs": []
    },
    {
      "cell_type": "code",
      "source": [
        "##Outro jeito de resolver a questão anterior\n",
        "\n",
        "num = int(input('Digite um número inteiro:'))\n",
        "cont = 0\n",
        "soma = 0\n",
        "while (cont <= num):\n",
        "  soma += cont\n",
        "  cont += 1\n",
        "print(soma)"
      ],
      "metadata": {
        "id": "soa60f2lNvUl"
      },
      "execution_count": null,
      "outputs": []
    },
    {
      "cell_type": "code",
      "source": [
        "##Pede a senha do usuário e dá 5 chances para inserir a senha correta\n",
        "\n",
        "senha = 'bola123'\n",
        "cont = 0\n",
        "psw = input('Digite a sua senha: ')\n",
        "while (cont <= 5):\n",
        "  if(psw == senha):\n",
        "    break\n",
        "  else: \n",
        "    print('Senha incorreta')\n",
        "    psw = input('Tente novamente: ')\n",
        "    cont += 1\n",
        "\n",
        "if(cont == 5):\n",
        "  print('Sua senha foi bloqueada')\n",
        "else: \n",
        "  print('Bem vindo')\n"
      ],
      "metadata": {
        "id": "BVMXv94sP5r-"
      },
      "execution_count": null,
      "outputs": []
    },
    {
      "cell_type": "code",
      "source": [
        "#Testar a entrada do usuário\n",
        "##isdigit() verifica se o que foi inserido é numérico ou não\n",
        "##isalpha verifica se o que foi inserido são letras do alfabeto (não inclui caracteres especiais ou espaço)\n",
        "\n",
        "num = input('Digite um número: ')\n",
        "num.isdigit()\n",
        "nome = input('Digite um nome')\n",
        "nome.isalpha"
      ],
      "metadata": {
        "id": "GXiAKC7-Yikq"
      },
      "execution_count": null,
      "outputs": []
    },
    {
      "cell_type": "code",
      "source": [
        "#Solicitar que o usuário digite um nome\n",
        "#Caso ele digite um número avise \"Entrada incorreta\"\n",
        "\n",
        "nome = input('Digite um nome: ')\n",
        "if (nome.isdigit()):\n",
        "  print('Entrada incorreta!')\n",
        "else: \n",
        "  print(f'O nome {nome} foi inserido com sucesso!')"
      ],
      "metadata": {
        "id": "8wIgnenaZPx7"
      },
      "execution_count": null,
      "outputs": []
    },
    {
      "cell_type": "code",
      "source": [
        "#Solicitar que o usuário digite nomes de animais que serão inseridos em uma lista\n",
        "#O programa encerra quando inserir um número\n",
        "#Exibir a lita dos animais\n",
        "\n",
        "animais = []\n",
        "nome = input('Insira o nome de um animal:')\n",
        "\n",
        "while (nome.isdigit() == False):\n",
        "  animais.append(nome)\n",
        "  nome = input('Insira o nome de um animal:')\n",
        "\n",
        "print(animais)"
      ],
      "metadata": {
        "id": "lZJe6eEraD7t"
      },
      "execution_count": null,
      "outputs": []
    },
    {
      "cell_type": "code",
      "source": [],
      "metadata": {
        "id": "JJYZTBPIctm2"
      },
      "execution_count": null,
      "outputs": []
    }
  ]
}