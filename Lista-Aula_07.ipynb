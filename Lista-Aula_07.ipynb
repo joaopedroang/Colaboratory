{
  "nbformat": 4,
  "nbformat_minor": 0,
  "metadata": {
    "colab": {
      "provenance": [],
      "authorship_tag": "ABX9TyNtd+U4z63oFEE9ftcsdegG",
      "include_colab_link": true
    },
    "kernelspec": {
      "name": "python3",
      "display_name": "Python 3"
    },
    "language_info": {
      "name": "python"
    }
  },
  "cells": [
    {
      "cell_type": "markdown",
      "metadata": {
        "id": "view-in-github",
        "colab_type": "text"
      },
      "source": [
        "<a href=\"https://colab.research.google.com/github/joaopedroang/Colaboratory/blob/main/Lista-Aula_07.ipynb\" target=\"_parent\"><img src=\"https://colab.research.google.com/assets/colab-badge.svg\" alt=\"Open In Colab\"/></a>"
      ]
    },
    {
      "cell_type": "code",
      "execution_count": 16,
      "metadata": {
        "id": "XsBhehQ4I-Ec"
      },
      "outputs": [],
      "source": [
        "# 1) Escreva uma função que recebe uma lista de strings e retorna:\n",
        "## apenas as palavras que começam com a letra 'a';\n",
        "## a quantidade de palavras encontradas;\n",
        "\n",
        "lista = ['arco', 'macaco', 'urubu', 'predio', 'acabado']"
      ]
    },
    {
      "cell_type": "code",
      "source": [
        "def inicialA(palavra):\n",
        "  return (palavra[0] == 'a')\n",
        "\n",
        "listA = list(filter(inicialA, lista))\n",
        "print (len(listA), listA)\n"
      ],
      "metadata": {
        "colab": {
          "base_uri": "https://localhost:8080/"
        },
        "id": "S0IiyThlOc48",
        "outputId": "651cb085-e8f0-406a-b696-97f1f12c9008"
      },
      "execution_count": 17,
      "outputs": [
        {
          "output_type": "stream",
          "name": "stdout",
          "text": [
            "2 ['arco', 'acabado']\n"
          ]
        }
      ]
    },
    {
      "cell_type": "code",
      "source": [
        "## Outro jeito: \n",
        "\n",
        "def listInicA(palavras):\n",
        "  wordA = []\n",
        "  for i in palavras:\n",
        "    if i[0] == 'a':\n",
        "      wordA.append(i)\n",
        "  print(len(wordA))\n",
        "  return wordA"
      ],
      "metadata": {
        "id": "L91afaCpUg1y"
      },
      "execution_count": 31,
      "outputs": []
    },
    {
      "cell_type": "code",
      "source": [
        "animais = ['arara', 'morcego', 'ariranha', 'papagaio']\n",
        "listInicA(animais)"
      ],
      "metadata": {
        "colab": {
          "base_uri": "https://localhost:8080/"
        },
        "id": "CeppTt8TWUWK",
        "outputId": "c2831696-9aab-4315-f91d-f06a5e876c91"
      },
      "execution_count": 32,
      "outputs": [
        {
          "output_type": "stream",
          "name": "stdout",
          "text": [
            "2\n"
          ]
        },
        {
          "output_type": "execute_result",
          "data": {
            "text/plain": [
              "['arara', 'ariranha']"
            ]
          },
          "metadata": {},
          "execution_count": 32
        }
      ]
    },
    {
      "cell_type": "code",
      "source": [
        "# 2) Esvreva uma função que receba uma lista de números e retorne o produto desses números.\n",
        "\n",
        "def produto(numeros):\n",
        "  result = 1\n",
        "  for num in numeros:\n",
        "    result *= num\n",
        "  return result"
      ],
      "metadata": {
        "id": "gMxDZEYEO58C"
      },
      "execution_count": 44,
      "outputs": []
    },
    {
      "cell_type": "code",
      "source": [
        "numeros = [1, 2, 3, 6]\n",
        "produto(numeros)"
      ],
      "metadata": {
        "colab": {
          "base_uri": "https://localhost:8080/"
        },
        "id": "1CLoxVgJSxYj",
        "outputId": "b8d535b6-cdef-4acf-efb9-b1bca0c9dce6"
      },
      "execution_count": 45,
      "outputs": [
        {
          "output_type": "execute_result",
          "data": {
            "text/plain": [
              "36"
            ]
          },
          "metadata": {},
          "execution_count": 45
        }
      ]
    },
    {
      "cell_type": "code",
      "source": [
        "# 3) Escreva uma função que receba uma lista de números e retorne a soma dos númemros pares.\n",
        "\n",
        "def somaPares(numeros):\n",
        "  par = []\n",
        "  for num in numeros:\n",
        "    if (num % 2 == 0):\n",
        "      par.append(num)\n",
        "  result = sum(par)\n",
        "  return result"
      ],
      "metadata": {
        "id": "w861TeCWZP1w"
      },
      "execution_count": 50,
      "outputs": []
    },
    {
      "cell_type": "code",
      "source": [
        "numeros = [1, 2, 3, 4, 5, 6, 7, 8]\n",
        "somaPares(numeros)"
      ],
      "metadata": {
        "colab": {
          "base_uri": "https://localhost:8080/"
        },
        "id": "zAiQiYuIbBgn",
        "outputId": "ca2863ca-fdab-409a-991b-973337ee0e3d"
      },
      "execution_count": 51,
      "outputs": [
        {
          "output_type": "execute_result",
          "data": {
            "text/plain": [
              "20"
            ]
          },
          "metadata": {},
          "execution_count": 51
        }
      ]
    },
    {
      "cell_type": "code",
      "source": [
        "# 4) Escreva uma função que recebe uma lista de nomes e retorna a string com o maior número de caracteres.\n",
        "words = ['garrancho', 'etimologia', 'visual', 'pneumoultramicroscopicossilicovulcanoconiose', 'apto']\n",
        "\n",
        "def maiorString(words):\n",
        "  maior = ''\n",
        "  for w in words:\n",
        "    if (len(w) >= len(maior)):\n",
        "      maior = w\n",
        "  return maior, len(maior)"
      ],
      "metadata": {
        "id": "CXp6zlembx3k"
      },
      "execution_count": 92,
      "outputs": []
    },
    {
      "cell_type": "code",
      "source": [
        "maiorString(words)"
      ],
      "metadata": {
        "colab": {
          "base_uri": "https://localhost:8080/"
        },
        "id": "3QhaH9Asiaat",
        "outputId": "c398c012-9d21-454a-a1c4-e70a54e56a66"
      },
      "execution_count": 93,
      "outputs": [
        {
          "output_type": "execute_result",
          "data": {
            "text/plain": [
              "('pneumoultramicroscopicossilicovulcanoconiose', 44)"
            ]
          },
          "metadata": {},
          "execution_count": 93
        }
      ]
    }
  ]
}