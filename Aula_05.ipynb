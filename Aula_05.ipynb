{
  "nbformat": 4,
  "nbformat_minor": 0,
  "metadata": {
    "colab": {
      "provenance": [],
      "authorship_tag": "ABX9TyO89wbfuVP208CI8sZd5KqK",
      "include_colab_link": true
    },
    "kernelspec": {
      "name": "python3",
      "display_name": "Python 3"
    },
    "language_info": {
      "name": "python"
    }
  },
  "cells": [
    {
      "cell_type": "markdown",
      "metadata": {
        "id": "view-in-github",
        "colab_type": "text"
      },
      "source": [
        "<a href=\"https://colab.research.google.com/github/joaopedroang/Colaboratory/blob/main/Aula_05.ipynb\" target=\"_parent\"><img src=\"https://colab.research.google.com/assets/colab-badge.svg\" alt=\"Open In Colab\"/></a>"
      ]
    },
    {
      "cell_type": "markdown",
      "source": [
        "FUNÇÃO"
      ],
      "metadata": {
        "id": "8Vez1R_rHs25"
      }
    },
    {
      "cell_type": "code",
      "execution_count": 2,
      "metadata": {
        "id": "5WZXnDjp6e54"
      },
      "outputs": [],
      "source": [
        "#Declaração da função\n",
        "def my_first_function():\n",
        "  print('minha primeira função')"
      ]
    },
    {
      "cell_type": "code",
      "source": [
        "#Chamando uma função\n",
        "my_first_function()"
      ],
      "metadata": {
        "id": "_uVbjtJ9Hril"
      },
      "execution_count": null,
      "outputs": []
    },
    {
      "cell_type": "markdown",
      "source": [
        "ARGUMENTOS/PARÂMETROS"
      ],
      "metadata": {
        "id": "cV8ZjFh-Idlr"
      }
    },
    {
      "cell_type": "code",
      "source": [
        "def pronomeTratam(pronome):\n",
        "  print(pronome + ' João Pedro')"
      ],
      "metadata": {
        "id": "ve0miJSCIBIr"
      },
      "execution_count": 6,
      "outputs": []
    },
    {
      "cell_type": "code",
      "source": [
        "pronomeTratam('Doutor')\n",
        "pronomeTratam('Ilmo')\n",
        "pronomeTratam('Seu')"
      ],
      "metadata": {
        "id": "I9YGjJfLI2iF"
      },
      "execution_count": null,
      "outputs": []
    },
    {
      "cell_type": "code",
      "source": [
        "def tratamNome(pronome, nome):\n",
        "  print(pronome, nome)"
      ],
      "metadata": {
        "id": "YU81xC7VJH9j"
      },
      "execution_count": 8,
      "outputs": []
    },
    {
      "cell_type": "code",
      "source": [
        "tratamNome('Ilstríssimo', 'Canalha')"
      ],
      "metadata": {
        "id": "EQA7IdbvKMeK"
      },
      "execution_count": null,
      "outputs": []
    },
    {
      "cell_type": "code",
      "source": [
        "#Função que recebe o nome e o ano de nascimento\n",
        "#Calcula a idade e retorna algo como: '@ tem x anos'\n",
        "\n",
        "def nomeAno(nome, ano):\n",
        "  idade = 2023 - ano\n",
        "  print(nome,'tem', idade, 'anos')"
      ],
      "metadata": {
        "id": "m4XnedXrKhzS"
      },
      "execution_count": 31,
      "outputs": []
    },
    {
      "cell_type": "code",
      "source": [
        "nomeAno('João Pedro',2000)"
      ],
      "metadata": {
        "id": "CDAMPSHELETa"
      },
      "execution_count": null,
      "outputs": []
    },
    {
      "cell_type": "code",
      "source": [
        "#Uma função que recebe altura e peso e retorna o IMC\n",
        "##IMC = peso/alura**2\n",
        "def IMC(peso, altura):\n",
        "  print(peso/(altura*altura))"
      ],
      "metadata": {
        "id": "OCnDIWsXNiCw"
      },
      "execution_count": 56,
      "outputs": []
    },
    {
      "cell_type": "code",
      "source": [
        "IMC(67, 168.5)"
      ],
      "metadata": {
        "id": "NUyEQIMHOpze"
      },
      "execution_count": null,
      "outputs": []
    },
    {
      "cell_type": "code",
      "source": [
        "#Para utilizar utilizar os dados de uma função em outras partes do software, usa-se a palavra reservada return\n",
        "\n",
        "def IMC(peso, altura):\n",
        "  return peso/(altura*altura)"
      ],
      "metadata": {
        "id": "UYNYHw8ZO05m"
      },
      "execution_count": 57,
      "outputs": []
    },
    {
      "cell_type": "code",
      "source": [
        "IMC(67, 168.5) < 30"
      ],
      "metadata": {
        "id": "qPvcf2nHQz3s"
      },
      "execution_count": null,
      "outputs": []
    },
    {
      "cell_type": "code",
      "source": [
        "#O cálculo de Juros Simples é dado pela fórmula:\n",
        "## J = C * i * t\n",
        "## J = juros simples; C = capital inicial; i = taxa de juros; t = tempo de aplicação\n",
        "#Crie uma função que recebe um valor de empréstimo e o tempo e retorne o quanto será pago\n",
        "# de juros ao final do período.\n",
        "##Use uma taxa de juros de 2.5%\n",
        "\n",
        "def JurosSimples(capital, tempo):\n",
        "  return capital * tempo * 0.025"
      ],
      "metadata": {
        "id": "9Mmvh3rlSgGU"
      },
      "execution_count": 75,
      "outputs": []
    },
    {
      "cell_type": "code",
      "source": [
        "JurosSimples(1000, 5)"
      ],
      "metadata": {
        "id": "pGT6NCiBSigD"
      },
      "execution_count": null,
      "outputs": []
    },
    {
      "cell_type": "code",
      "source": [
        "def valorTotal(valor, tempo):\n",
        "  JurosSimples(valor, tempo)\n",
        "  return valor + JurosSimples(valor, tempo)"
      ],
      "metadata": {
        "id": "ZNgHJ8kcdaGX"
      },
      "execution_count": 83,
      "outputs": []
    },
    {
      "cell_type": "code",
      "source": [
        "valorTotal(1000, 5)"
      ],
      "metadata": {
        "id": "lHvyoLurdwXB"
      },
      "execution_count": null,
      "outputs": []
    },
    {
      "cell_type": "code",
      "source": [
        "#Programa que solicita o valor do empréstimo e o tempo\n",
        "\n",
        "valor = float(input('Digite o valor do empréstimo: '))\n",
        "tempo = int(input('Em quanto tempo? '))\n",
        "\n",
        "valorTotal(valor, tempo)"
      ],
      "metadata": {
        "id": "P0bDwH-MfCXK"
      },
      "execution_count": null,
      "outputs": []
    },
    {
      "cell_type": "code",
      "source": [
        "#"
      ],
      "metadata": {
        "id": "O64ANVMufiG4"
      },
      "execution_count": null,
      "outputs": []
    }
  ]
}