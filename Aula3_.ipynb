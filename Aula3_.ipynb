{
  "nbformat": 4,
  "nbformat_minor": 0,
  "metadata": {
    "colab": {
      "provenance": [],
      "authorship_tag": "ABX9TyPSIyCsoN/nnawTEn++49jZ",
      "include_colab_link": true
    },
    "kernelspec": {
      "name": "python3",
      "display_name": "Python 3"
    },
    "language_info": {
      "name": "python"
    }
  },
  "cells": [
    {
      "cell_type": "markdown",
      "metadata": {
        "id": "view-in-github",
        "colab_type": "text"
      },
      "source": [
        "<a href=\"https://colab.research.google.com/github/joaopedroang/estudos-programacao/blob/main/Aula3_.ipynb\" target=\"_parent\"><img src=\"https://colab.research.google.com/assets/colab-badge.svg\" alt=\"Open In Colab\"/></a>"
      ]
    },
    {
      "cell_type": "code",
      "execution_count": 5,
      "metadata": {
        "colab": {
          "base_uri": "https://localhost:8080/"
        },
        "id": "8GF4mCJh8s8L",
        "outputId": "acd1b715-f837-458f-ea80-5b9d4182d121"
      },
      "outputs": [
        {
          "output_type": "stream",
          "name": "stdout",
          "text": [
            "João Pedro\n"
          ]
        }
      ],
      "source": [
        "print('João Pedro')"
      ]
    },
    {
      "cell_type": "code",
      "source": [
        "ano = 2023\n",
        "print(ano)"
      ],
      "metadata": {
        "colab": {
          "base_uri": "https://localhost:8080/"
        },
        "id": "bDkr_RYiCMdQ",
        "outputId": "1a9d0bb7-242f-4993-8cd1-88a46cff787b"
      },
      "execution_count": 4,
      "outputs": [
        {
          "output_type": "stream",
          "name": "stdout",
          "text": [
            "2023\n"
          ]
        }
      ]
    },
    {
      "cell_type": "code",
      "source": [],
      "metadata": {
        "id": "7wK1brhME1LL"
      },
      "execution_count": null,
      "outputs": []
    },
    {
      "cell_type": "code",
      "source": [
        "#@title Laço For { run: \"auto\" }\n",
        "frutas = ['manga', 'morango', 'melancia', 'goiaba', 'banana']"
      ],
      "metadata": {
        "id": "x0GC9YWyDAxb"
      },
      "execution_count": 10,
      "outputs": []
    },
    {
      "cell_type": "code",
      "source": [
        "for i in frutas:\n",
        "  print(i)"
      ],
      "metadata": {
        "colab": {
          "base_uri": "https://localhost:8080/"
        },
        "id": "zrffmR4xEpkK",
        "outputId": "6ff03320-540d-4230-9510-a3913cbe8956"
      },
      "execution_count": 11,
      "outputs": [
        {
          "output_type": "stream",
          "name": "stdout",
          "text": [
            "manga\n",
            "morango\n",
            "melancia\n",
            "goiaba\n",
            "banana\n"
          ]
        }
      ]
    },
    {
      "cell_type": "code",
      "source": [
        "for i in frutas:\n",
        "  if(i == 'morango'):\n",
        "    print(i)"
      ],
      "metadata": {
        "colab": {
          "base_uri": "https://localhost:8080/"
        },
        "id": "Yh4-JvRYFUw-",
        "outputId": "69298689-d262-4da3-f346-3aedb0ceeeb5"
      },
      "execution_count": 12,
      "outputs": [
        {
          "output_type": "stream",
          "name": "stdout",
          "text": [
            "morango\n"
          ]
        }
      ]
    },
    {
      "cell_type": "code",
      "source": [
        "  fruta = input('Insira uma fruta: ')\n",
        "  #inserir valores em listas;\n",
        "  frutas.append(fruta)\n",
        "  frutas "
      ],
      "metadata": {
        "colab": {
          "base_uri": "https://localhost:8080/"
        },
        "id": "lDNSD6wLGSem",
        "outputId": "7bb5ca58-4260-42b2-efee-1367bfc69dbe"
      },
      "execution_count": 13,
      "outputs": [
        {
          "name": "stdout",
          "output_type": "stream",
          "text": [
            "Insira uma fruta: Abacaxi\n"
          ]
        },
        {
          "output_type": "execute_result",
          "data": {
            "text/plain": [
              "['manga', 'morango', 'melancia', 'goiaba', 'banana', 'Abacaxi']"
            ]
          },
          "metadata": {},
          "execution_count": 13
        }
      ]
    },
    {
      "cell_type": "code",
      "source": [
        "#Exiba a quantidade de aprovados e de reprovados!"
      ],
      "metadata": {
        "id": "VXwB9Jk0JMF2"
      },
      "execution_count": null,
      "outputs": []
    },
    {
      "cell_type": "code",
      "source": [
        "notas = [8, 9, 7, 6, 5, 4, 3, 2, 2, 1] \n",
        "aprovados = 0\n",
        "reprovados = 0\n",
        "for nota in notas:\n",
        "  if(nota >= 7):\n",
        "    aprovados += 1\n",
        "  else:\n",
        "    reprovados += 1\n",
        "\n",
        "print('Aprovados: ', aprovados)\n",
        "print('Reprovados: ', reprovados)\n"
      ],
      "metadata": {
        "colab": {
          "base_uri": "https://localhost:8080/"
        },
        "id": "gTcD-VoRJSSE",
        "outputId": "3b1492e6-a620-4445-c095-71203f0ce84b"
      },
      "execution_count": 16,
      "outputs": [
        {
          "output_type": "stream",
          "name": "stdout",
          "text": [
            "Aprovados:  3\n",
            "Reprovados:  7\n"
          ]
        }
      ]
    },
    {
      "cell_type": "code",
      "source": [
        "#Criar um programa que lista os número de 1 a 10.\n",
        "#Para isso, precisaremos de um contador:\n",
        "cont = 1\n",
        "numeros = []\n",
        "\n",
        "while (cont <= 10):\n",
        "  numeros.append(cont)\n",
        "  cont += 1\n",
        "\n",
        "numeros"
      ],
      "metadata": {
        "colab": {
          "base_uri": "https://localhost:8080/"
        },
        "id": "dZUkAheeRaBA",
        "outputId": "7da82a90-b52a-4d4b-dc87-c3e4bb63cf45"
      },
      "execution_count": 17,
      "outputs": [
        {
          "output_type": "execute_result",
          "data": {
            "text/plain": [
              "[1, 2, 3, 4, 5, 6, 7, 8, 9, 10]"
            ]
          },
          "metadata": {},
          "execution_count": 17
        }
      ]
    },
    {
      "cell_type": "code",
      "source": [
        "cont = 1\n",
        "numeros = []\n",
        "\n",
        "tamanho = int(input('Insira o tamanho da lista: '))\n",
        "\n",
        "while (cont <= tamanho):\n",
        "  numeros.append(cont)\n",
        "  cont += 1\n",
        "\n",
        "numeros"
      ],
      "metadata": {
        "colab": {
          "base_uri": "https://localhost:8080/"
        },
        "id": "YpAOPacYR5t5",
        "outputId": "749bed64-2731-4893-b20f-22fcc0269fe3"
      },
      "execution_count": 23,
      "outputs": [
        {
          "name": "stdout",
          "output_type": "stream",
          "text": [
            "Insira o tamanho da lista: 20\n"
          ]
        },
        {
          "output_type": "execute_result",
          "data": {
            "text/plain": [
              "[1, 2, 3, 4, 5, 6, 7, 8, 9, 10, 11, 12, 13, 14, 15, 16, 17, 18, 19, 20]"
            ]
          },
          "metadata": {},
          "execution_count": 23
        }
      ]
    },
    {
      "cell_type": "markdown",
      "source": [],
      "metadata": {
        "id": "7isuR-GjGQ0b"
      }
    }
  ]
}