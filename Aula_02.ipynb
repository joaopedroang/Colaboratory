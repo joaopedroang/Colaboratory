{
  "nbformat": 4,
  "nbformat_minor": 0,
  "metadata": {
    "colab": {
      "provenance": [],
      "authorship_tag": "ABX9TyNUUKhBeZV0ald6T9GlaEQZ",
      "include_colab_link": true
    },
    "kernelspec": {
      "name": "python3",
      "display_name": "Python 3"
    },
    "language_info": {
      "name": "python"
    }
  },
  "cells": [
    {
      "cell_type": "markdown",
      "metadata": {
        "id": "view-in-github",
        "colab_type": "text"
      },
      "source": [
        "<a href=\"https://colab.research.google.com/github/joaopedroang/estudos-programacao/blob/main/Aula_Tipos_de_dados.ipynb\" target=\"_parent\"><img src=\"https://colab.research.google.com/assets/colab-badge.svg\" alt=\"Open In Colab\"/></a>"
      ]
    },
    {
      "cell_type": "code",
      "execution_count": 4,
      "metadata": {
        "colab": {
          "base_uri": "https://localhost:8080/"
        },
        "id": "WGAH7SlfBrnq",
        "outputId": "33856304-57cb-471d-a88a-0aaf71d07f45"
      },
      "outputs": [
        {
          "output_type": "stream",
          "name": "stdout",
          "text": [
            "Meu primeiro notebook\n"
          ]
        }
      ],
      "source": [
        "print('Meu primeiro notebook')"
      ]
    },
    {
      "cell_type": "code",
      "source": [
        "nome = 'João Pedro'\n",
        "print(nome)"
      ],
      "metadata": {
        "colab": {
          "base_uri": "https://localhost:8080/"
        },
        "id": "qb6fFguWCWUI",
        "outputId": "8bd5fdc7-983f-4866-d6c0-6fa297edcdfe"
      },
      "execution_count": 5,
      "outputs": [
        {
          "output_type": "stream",
          "name": "stdout",
          "text": [
            "João Pedro\n"
          ]
        }
      ]
    },
    {
      "cell_type": "code",
      "source": [
        "#Descobrir Tipo de variável\n",
        "type(nome)"
      ],
      "metadata": {
        "colab": {
          "base_uri": "https://localhost:8080/"
        },
        "id": "b-JNc1LDCmwg",
        "outputId": "20c5a0b4-d0a4-415c-ef13-e3fb66eb9499"
      },
      "execution_count": 6,
      "outputs": [
        {
          "output_type": "execute_result",
          "data": {
            "text/plain": [
              "str"
            ]
          },
          "metadata": {},
          "execution_count": 6
        }
      ]
    },
    {
      "cell_type": "code",
      "source": [
        "a = 100\n",
        "b = 25.6\n",
        "c = a > b\n",
        "d = 'Chimpanzé'"
      ],
      "metadata": {
        "id": "xvePsySQCvin"
      },
      "execution_count": 7,
      "outputs": []
    },
    {
      "cell_type": "code",
      "source": [
        "type(a)"
      ],
      "metadata": {
        "colab": {
          "base_uri": "https://localhost:8080/"
        },
        "id": "NndS8eXwEdnC",
        "outputId": "5062421e-f86d-4014-bd34-70cc3c457b77"
      },
      "execution_count": 9,
      "outputs": [
        {
          "output_type": "execute_result",
          "data": {
            "text/plain": [
              "int"
            ]
          },
          "metadata": {},
          "execution_count": 9
        }
      ]
    },
    {
      "cell_type": "code",
      "source": [
        "type(b)"
      ],
      "metadata": {
        "colab": {
          "base_uri": "https://localhost:8080/"
        },
        "id": "AxON33ScEqhv",
        "outputId": "cd8e5f21-add9-47ca-c29e-1b24aad01970"
      },
      "execution_count": 10,
      "outputs": [
        {
          "output_type": "execute_result",
          "data": {
            "text/plain": [
              "float"
            ]
          },
          "metadata": {},
          "execution_count": 10
        }
      ]
    },
    {
      "cell_type": "code",
      "source": [
        "type(c)"
      ],
      "metadata": {
        "colab": {
          "base_uri": "https://localhost:8080/"
        },
        "id": "DeHa-MDCEsou",
        "outputId": "304be9cf-3967-4020-f321-ffdea5260dd7"
      },
      "execution_count": 12,
      "outputs": [
        {
          "output_type": "execute_result",
          "data": {
            "text/plain": [
              "bool"
            ]
          },
          "metadata": {},
          "execution_count": 12
        }
      ]
    },
    {
      "cell_type": "code",
      "source": [
        "type(d)"
      ],
      "metadata": {
        "colab": {
          "base_uri": "https://localhost:8080/"
        },
        "id": "KqwccCvJEwU2",
        "outputId": "3d425825-c112-4d25-e55c-b82801e111a4"
      },
      "execution_count": 13,
      "outputs": [
        {
          "output_type": "execute_result",
          "data": {
            "text/plain": [
              "str"
            ]
          },
          "metadata": {},
          "execution_count": 13
        }
      ]
    },
    {
      "cell_type": "code",
      "source": [
        "'Tipos de dados Booleanos' "
      ],
      "metadata": {
        "colab": {
          "base_uri": "https://localhost:8080/",
          "height": 35
        },
        "id": "u38J3O3TEy4W",
        "outputId": "a495d86e-196c-4af2-d246-e11ac4635f99"
      },
      "execution_count": 15,
      "outputs": [
        {
          "output_type": "execute_result",
          "data": {
            "text/plain": [
              "'Tipos de dados Booleanos'"
            ],
            "application/vnd.google.colaboratory.intrinsic+json": {
              "type": "string"
            }
          },
          "metadata": {},
          "execution_count": 15
        }
      ]
    },
    {
      "cell_type": "code",
      "source": [
        "a = 100 < 200\n",
        "b = 85 == 6\n",
        "c = 'pablo'  == 'pablo'\n",
        "d = 25 == '25'\n",
        "e = 30 == (6*5)\n",
        "f = 'Flamengo' != 'Vasco'"
      ],
      "metadata": {
        "id": "u5IXdDrHLE6v"
      },
      "execution_count": 27,
      "outputs": []
    },
    {
      "cell_type": "code",
      "source": [
        "print(a)\n",
        "print(b)\n",
        "print(c)\n",
        "print(d)\n",
        "print(e)\n",
        "print(f)"
      ],
      "metadata": {
        "colab": {
          "base_uri": "https://localhost:8080/"
        },
        "id": "T3qKnaAKLUNQ",
        "outputId": "af5144af-d6ed-4385-d1fb-61ed7431dce1"
      },
      "execution_count": 28,
      "outputs": [
        {
          "output_type": "stream",
          "name": "stdout",
          "text": [
            "True\n",
            "False\n",
            "True\n",
            "False\n",
            "True\n",
            "True\n"
          ]
        }
      ]
    },
    {
      "cell_type": "code",
      "source": [
        "notaAprovacao = 7.0\n",
        "notaWalisson = 8.0\n",
        "print(notaAprovacao < notaWalisson)"
      ],
      "metadata": {
        "colab": {
          "base_uri": "https://localhost:8080/"
        },
        "id": "TEeOTeJfMpN9",
        "outputId": "344cf32f-9970-49ae-b24d-56964c99dfc7"
      },
      "execution_count": 73,
      "outputs": [
        {
          "output_type": "stream",
          "name": "stdout",
          "text": [
            "True\n"
          ]
        }
      ]
    },
    {
      "cell_type": "code",
      "source": [
        "if (notaWalisson >= 7.0) :\n",
        "  print('Aprovado')"
      ],
      "metadata": {
        "id": "zvwsPRDiNGMM"
      },
      "execution_count": 70,
      "outputs": []
    },
    {
      "cell_type": "code",
      "source": [
        "if (notaWalisson >= 7.0) :\n",
        "  print('Aprovado')\n",
        "else:\n",
        "  print('Reprovado') "
      ],
      "metadata": {
        "colab": {
          "base_uri": "https://localhost:8080/"
        },
        "id": "5xWCc70DNqH8",
        "outputId": "c8035a3e-f30d-4aeb-848c-fbd06093508a"
      },
      "execution_count": 71,
      "outputs": [
        {
          "output_type": "stream",
          "name": "stdout",
          "text": [
            "Reprovado\n"
          ]
        }
      ]
    },
    {
      "cell_type": "code",
      "source": [
        "if (notaWalisson) >= 7:\n",
        "  print('Aprovado')\n",
        "elif (notaWalisson >= 4 and notaWalisson < 7):\n",
        "    print('Recuperação')\n",
        "else:\n",
        "   print('Volte ano que vem')   "
      ],
      "metadata": {
        "colab": {
          "base_uri": "https://localhost:8080/"
        },
        "id": "4RDai1WMN0Yb",
        "outputId": "35367afb-30f0-4a27-d982-63fc9e904d78"
      },
      "execution_count": 79,
      "outputs": [
        {
          "output_type": "stream",
          "name": "stdout",
          "text": [
            "Aprovado\n"
          ]
        }
      ]
    },
    {
      "cell_type": "code",
      "source": [
        "if(notaWalisson < 4):\n",
        "  print('Reprovado')\n",
        "elif(notaWalisson < 7):\n",
        "  print('Recuperação')\n",
        "else:\n",
        "  print('Aprovado')    "
      ],
      "metadata": {
        "colab": {
          "base_uri": "https://localhost:8080/"
        },
        "id": "AJKmDq9ARxZI",
        "outputId": "b9d57467-e9e4-4582-e6e7-45f10c45b557"
      },
      "execution_count": 80,
      "outputs": [
        {
          "output_type": "stream",
          "name": "stdout",
          "text": [
            "Aprovado\n"
          ]
        }
      ]
    },
    {
      "cell_type": "markdown",
      "source": [
        "Input dados no Pyton"
      ],
      "metadata": {
        "id": "3SlMeM4YLZyH"
      }
    },
    {
      "cell_type": "code",
      "source": [
        "nota1 = input('Digite a nota: ')\n",
        "nota2 = input('Digite a segunda nota: ')\n",
        "print(nota1 + nota2)"
      ],
      "metadata": {
        "colab": {
          "base_uri": "https://localhost:8080/"
        },
        "id": "tqMkh6MxTuiU",
        "outputId": "c2cf3bc7-0aa2-41ca-da5c-0b80bb290551"
      },
      "execution_count": 82,
      "outputs": [
        {
          "output_type": "stream",
          "name": "stdout",
          "text": [
            "Digite a nota: 3\n",
            "Digite a segunda nota: 10\n",
            "310\n"
          ]
        }
      ]
    },
    {
      "cell_type": "code",
      "source": [
        "#O velho e bom PARSE\n",
        "\n",
        "nota1 = float(input('Digite a nota: '))\n",
        "nota2 = float(input('Digite a segunda nota: '))\n",
        "print(nota1 + nota2)"
      ],
      "metadata": {
        "colab": {
          "base_uri": "https://localhost:8080/"
        },
        "id": "Ovs-KthPVIFq",
        "outputId": "7ab4d49d-ee26-4b4a-afa7-dcf305b07612"
      },
      "execution_count": 86,
      "outputs": [
        {
          "output_type": "stream",
          "name": "stdout",
          "text": [
            "Digite a nota: 3\n",
            "Digite a segunda nota: 7\n",
            "10.0\n"
          ]
        }
      ]
    },
    {
      "cell_type": "code",
      "source": [
        "nota1 = float(input('Digite a nota: '))\n",
        "nota2 = float(input('Digite a segunda nota: '))\n",
        "nota3 = float(input('Digite a terceira nota: '))\n",
        "media = (nota1 + nota2 + nota3)/3\n",
        "print(media)\n",
        "if(media < 4):\n",
        "  print('Reprovado')\n",
        "elif(media < 7):\n",
        "  print('Recuperação')\n",
        "else:\n",
        "  print('Aprovado')   "
      ],
      "metadata": {
        "colab": {
          "base_uri": "https://localhost:8080/"
        },
        "id": "apkmNpw6Vmnk",
        "outputId": "5417a2fb-8a4e-45e8-b5f2-07b9cf6d948d"
      },
      "execution_count": 98,
      "outputs": [
        {
          "output_type": "stream",
          "name": "stdout",
          "text": [
            "Digite a nota: 7\n",
            "Digite a segunda nota: 7\n",
            "Digite a terceira nota: 7\n",
            "7.0\n",
            "Aprovado\n"
          ]
        }
      ]
    }
  ]
}
