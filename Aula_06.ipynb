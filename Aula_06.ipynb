{
  "nbformat": 4,
  "nbformat_minor": 0,
  "metadata": {
    "colab": {
      "provenance": [],
      "authorship_tag": "ABX9TyO4uQyoQny4fzduxXDSm2II",
      "include_colab_link": true
    },
    "kernelspec": {
      "name": "python3",
      "display_name": "Python 3"
    },
    "language_info": {
      "name": "python"
    }
  },
  "cells": [
    {
      "cell_type": "markdown",
      "metadata": {
        "id": "view-in-github",
        "colab_type": "text"
      },
      "source": [
        "<a href=\"https://colab.research.google.com/github/joaopedroang/Colaboratory/blob/main/Aula_06.ipynb\" target=\"_parent\"><img src=\"https://colab.research.google.com/assets/colab-badge.svg\" alt=\"Open In Colab\"/></a>"
      ]
    },
    {
      "cell_type": "code",
      "execution_count": 1,
      "metadata": {
        "id": "-P5B-_hj8MgS"
      },
      "outputs": [],
      "source": [
        "#Função calcula média\n",
        "\n",
        "def calculaMedia(x, y, z):\n",
        "  return (x+y+z)/3"
      ]
    },
    {
      "cell_type": "code",
      "source": [
        "a = float(input('Nota 1: '))\n",
        "b = float(input('Nota 2: '))\n",
        "c = float(input('Nota 3: '))\n",
        "\n",
        "calculaMedia(a, b, c)"
      ],
      "metadata": {
        "colab": {
          "base_uri": "https://localhost:8080/"
        },
        "id": "FJkRzPB1J1G-",
        "outputId": "e48c1e66-1a7e-4cea-a298-fbbaf151aaa2"
      },
      "execution_count": 22,
      "outputs": [
        {
          "name": "stdout",
          "output_type": "stream",
          "text": [
            "Nota 1: 5\n",
            "Nota 2: 7\n",
            "Nota 3: 10\n"
          ]
        },
        {
          "output_type": "execute_result",
          "data": {
            "text/plain": [
              "7.333333333333333"
            ]
          },
          "metadata": {},
          "execution_count": 22
        }
      ]
    },
    {
      "cell_type": "code",
      "source": [
        "#Argumentos arbitrários *args\n",
        "#Quando não se tem certeza quantos argumentos são passados pela função\n",
        "\n",
        "def mediaTotal(*notas):\n",
        "  soma = 0\n",
        "  for nota in notas:\n",
        "    soma += nota\n",
        "  media = soma/len(notas)\n",
        "  return media"
      ],
      "metadata": {
        "id": "eDntUrCzMFWN"
      },
      "execution_count": 11,
      "outputs": []
    },
    {
      "cell_type": "code",
      "source": [
        "mediaTotal(4,5,6,8,10,9,7,3,1,2)"
      ],
      "metadata": {
        "colab": {
          "base_uri": "https://localhost:8080/"
        },
        "id": "_kPVaIlsNhve",
        "outputId": "46fb3058-6f02-49e5-d0bc-d5a99dacfe94"
      },
      "execution_count": 10,
      "outputs": [
        {
          "output_type": "stream",
          "name": "stdout",
          "text": [
            "A média é:  5.5\n"
          ]
        }
      ]
    },
    {
      "cell_type": "code",
      "source": [
        "#Recebe vários de números e retorna o maior\n",
        "numeros = []\n",
        "def retornaMaior(*numeros):\n",
        "  maior = 0\n",
        "  for num in numeros:\n",
        "    if (num >= maior):\n",
        "      maior = num\n",
        "  return maior"
      ],
      "metadata": {
        "id": "SqfZnlbqPW1p"
      },
      "execution_count": 17,
      "outputs": []
    },
    {
      "cell_type": "code",
      "source": [
        "retornaMaior(2,5,17,23,255,30)"
      ],
      "metadata": {
        "colab": {
          "base_uri": "https://localhost:8080/"
        },
        "id": "oAVDF_X0a5-d",
        "outputId": "7d3f633c-194f-4a57-e5f8-097b49c3a47d"
      },
      "execution_count": 18,
      "outputs": [
        {
          "output_type": "execute_result",
          "data": {
            "text/plain": [
              "255"
            ]
          },
          "metadata": {},
          "execution_count": 18
        }
      ]
    },
    {
      "cell_type": "code",
      "source": [
        "def returnMaior(numeros):\n",
        "  return max(numeros)"
      ],
      "metadata": {
        "id": "PG9z6ehIcd-G"
      },
      "execution_count": 19,
      "outputs": []
    },
    {
      "cell_type": "code",
      "source": [
        "notas = [8,9,4,5,6,8,7,3,6,1,2,10,1]\n",
        "\n",
        "returnMaior(notas)"
      ],
      "metadata": {
        "colab": {
          "base_uri": "https://localhost:8080/"
        },
        "id": "nh0M5-EAc3XP",
        "outputId": "9ccb290c-d448-4328-efa7-f5f32bfdbccf"
      },
      "execution_count": 21,
      "outputs": [
        {
          "output_type": "execute_result",
          "data": {
            "text/plain": [
              "10"
            ]
          },
          "metadata": {},
          "execution_count": 21
        }
      ]
    },
    {
      "cell_type": "code",
      "source": [
        "#Valor de parâmetros padrão\n",
        "\n",
        "def nacionalidade(country = 'Cuba'):\n",
        "  print('Eu nasci em: ' + country)"
      ],
      "metadata": {
        "id": "__YDXUB3dvxI"
      },
      "execution_count": 23,
      "outputs": []
    },
    {
      "cell_type": "code",
      "source": [
        "nacionalidade('Brasil')\n",
        "nacionalidade('França')\n",
        "nacionalidade('Vietnã')\n",
        "nacionalidade()"
      ],
      "metadata": {
        "colab": {
          "base_uri": "https://localhost:8080/"
        },
        "id": "9P90qIgte1gt",
        "outputId": "00353034-ed92-45d7-f9eb-82f074be321c"
      },
      "execution_count": 27,
      "outputs": [
        {
          "output_type": "stream",
          "name": "stdout",
          "text": [
            "Eu nasci em: Brasil\n",
            "Eu nasci em: França\n",
            "Eu nasci em: Vietnã\n",
            "Eu nasci em: Cuba\n"
          ]
        }
      ]
    },
    {
      "cell_type": "code",
      "source": [
        "# Função que recebe dois parâmetros numéricos e retorna a soma desses números.\n",
        "\n",
        "def soma(a, b):\n",
        "  return a+b"
      ],
      "metadata": {
        "id": "K4iYvjH4fEdP"
      },
      "execution_count": 29,
      "outputs": []
    },
    {
      "cell_type": "code",
      "source": [
        "soma(5,15)"
      ],
      "metadata": {
        "colab": {
          "base_uri": "https://localhost:8080/"
        },
        "id": "0lnDwbN9gL1g",
        "outputId": "4829da49-b804-4676-a3e6-4538c43062da"
      },
      "execution_count": 33,
      "outputs": [
        {
          "output_type": "execute_result",
          "data": {
            "text/plain": [
              "20"
            ]
          },
          "metadata": {},
          "execution_count": 33
        }
      ]
    },
    {
      "cell_type": "code",
      "source": [
        "# Função que recebe um número e retorna o valor absoluto\n",
        "\n",
        "def num(a):\n",
        "  return abs(a)"
      ],
      "metadata": {
        "id": "jNDRwlhuhJvJ"
      },
      "execution_count": 34,
      "outputs": []
    },
    {
      "cell_type": "code",
      "source": [
        "num(-500)"
      ],
      "metadata": {
        "colab": {
          "base_uri": "https://localhost:8080/"
        },
        "id": "QcyF3I23hebl",
        "outputId": "efbda8f8-b110-4985-dce4-b63331b2b5ff"
      },
      "execution_count": 35,
      "outputs": [
        {
          "output_type": "execute_result",
          "data": {
            "text/plain": [
              "500"
            ]
          },
          "metadata": {},
          "execution_count": 35
        }
      ]
    },
    {
      "cell_type": "code",
      "source": [
        "## Outro jeito\n",
        "\n",
        "def valorAbsoluto(num):\n",
        "  if(num < 0):\n",
        "    num = num * -1\n",
        "  return num"
      ],
      "metadata": {
        "id": "eqomRsJvi3QF"
      },
      "execution_count": 36,
      "outputs": []
    },
    {
      "cell_type": "code",
      "source": [
        "valorAbsoluto(-15)"
      ],
      "metadata": {
        "colab": {
          "base_uri": "https://localhost:8080/"
        },
        "id": "YFNZKMlpjIZD",
        "outputId": "b1a2b060-96e9-4004-9e1a-08eacdd7ecea"
      },
      "execution_count": 37,
      "outputs": [
        {
          "output_type": "execute_result",
          "data": {
            "text/plain": [
              "15"
            ]
          },
          "metadata": {},
          "execution_count": 37
        }
      ]
    },
    {
      "cell_type": "code",
      "source": [
        "# Função que recebe uma lista de palavras e retorna as palavras com mais de\n",
        "## três letras\n",
        "\n",
        "def words(lista):\n",
        "  lista3 = []\n",
        "  for i in lista:\n",
        "    if (len(i) > 3):\n",
        "      lista3.append(i)\n",
        "  return lista3"
      ],
      "metadata": {
        "id": "EXHQ9Yc5hhiA"
      },
      "execution_count": 40,
      "outputs": []
    },
    {
      "cell_type": "code",
      "source": [
        "frutas = ['mangaba', 'acerola', 'uva']\n",
        "words(frutas)"
      ],
      "metadata": {
        "colab": {
          "base_uri": "https://localhost:8080/"
        },
        "id": "IQh37D-AkhRq",
        "outputId": "465cf419-0cf1-49ab-d47c-ae725d4a57bc"
      },
      "execution_count": 41,
      "outputs": [
        {
          "output_type": "execute_result",
          "data": {
            "text/plain": [
              "['mangaba', 'acerola']"
            ]
          },
          "metadata": {},
          "execution_count": 41
        }
      ]
    }
  ]
}