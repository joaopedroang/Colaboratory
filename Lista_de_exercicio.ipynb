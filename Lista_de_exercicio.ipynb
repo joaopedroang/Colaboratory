{
  "nbformat": 4,
  "nbformat_minor": 0,
  "metadata": {
    "colab": {
      "provenance": [],
      "authorship_tag": "ABX9TyPhLg2Xe2S0StAN/79rFyfs",
      "include_colab_link": true
    },
    "kernelspec": {
      "name": "python3",
      "display_name": "Python 3"
    },
    "language_info": {
      "name": "python"
    }
  },
  "cells": [
    {
      "cell_type": "markdown",
      "metadata": {
        "id": "view-in-github",
        "colab_type": "text"
      },
      "source": [
        "<a href=\"https://colab.research.google.com/github/joaopedroang/Colaboratory/blob/main/Lista_de_exercicio.ipynb\" target=\"_parent\"><img src=\"https://colab.research.google.com/assets/colab-badge.svg\" alt=\"Open In Colab\"/></a>"
      ]
    },
    {
      "cell_type": "code",
      "source": [
        "#Questão 01: Escrever um algoritmo que lista todos os números ímpares que são múltiplos de três e que se encontram no conjunto dos números de 1 até 100.\n",
        "\n",
        "cont = 0\n",
        "num = []\n",
        "tam = 100\n",
        "\n",
        "while (cont <= tam):\n",
        "  if (cont % 2 != 0):\n",
        "    if (cont % 3 == 0):\n",
        "      num.append(cont)\n",
        "        \n",
        "  cont += 1\n",
        "\n",
        "print(num)"
      ],
      "metadata": {
        "colab": {
          "base_uri": "https://localhost:8080/"
        },
        "id": "eElm2orts36J",
        "outputId": "f8a7d06d-47b0-4eb2-af2d-d6c573e29225"
      },
      "execution_count": 40,
      "outputs": [
        {
          "output_type": "stream",
          "name": "stdout",
          "text": [
            "[3, 9, 15, 21, 27, 33, 39, 45, 51, 57, 63, 69, 75, 81, 87, 93, 99]\n"
          ]
        }
      ]
    },
    {
      "cell_type": "code",
      "source": [
        "#Questão 02: Escrever um algoritmo parecido com o anterior, mas que soma todos os múltiplos de 5 de 1 até 500.\n",
        "cont = 1\n",
        "num = []\n",
        "tam = 500\n",
        "\n",
        "while (cont <= tam):\n",
        "  if (cont % 5 == 0):\n",
        "    num.append(cont)        \n",
        "  cont += 1\n",
        "\n",
        "print(sum(num))\n"
      ],
      "metadata": {
        "colab": {
          "base_uri": "https://localhost:8080/"
        },
        "id": "peCsbr6Gs5Qo",
        "outputId": "bbc917b4-53e1-4fb4-a2e9-675a115cc3be"
      },
      "execution_count": 41,
      "outputs": [
        {
          "output_type": "stream",
          "name": "stdout",
          "text": [
            "25250\n"
          ]
        }
      ]
    },
    {
      "cell_type": "code",
      "source": [
        "#Questão 03: Crie um algoritmo que, dado um número informado pelo usuário, imprima a tabuada dele de 1 a 10.\n",
        "\n",
        "cont = 1\n",
        "num = int(input('Insira um número: '))\n",
        "\n",
        "while (cont <=10):\n",
        "    print(f'{num} * {cont} = {num * cont}')\n",
        "    cont += 1"
      ],
      "metadata": {
        "id": "bqDwyotaxruM"
      },
      "execution_count": null,
      "outputs": []
    },
    {
      "cell_type": "code",
      "source": [
        "#Questão 04: Desenvolva um programa que, lê o peso de 10 pessoas. Depois, calcula e mostra:\n",
        "##O maior peso e o menor peso.\n",
        "\n",
        "cont = 1\n",
        "pesos = []\n",
        "peso = float(input('Digite seu peso: '))\n",
        "\n",
        "for cont in range(10):\n",
        "  pesos.append(peso)\n",
        "  cont += 1\n",
        "  peso = float(input('Digite seu peso: '))\n"
      ],
      "metadata": {
        "id": "ghXIjxCTxtuJ"
      },
      "execution_count": null,
      "outputs": []
    },
    {
      "cell_type": "code",
      "source": [
        "#Questão 05: Faça um programa que leia um número não determinado de valores. Depois, calcule e retorne na tela:\n",
        "##A média aritmética de todos os números; A quantidade de valores positivos; A quantidade de valores negativos. \n",
        "##A condição de parada do laço é se o usuário digitar um caracter ou string.\n",
        "\n",
        "cont = 0\n",
        "num = input('Insira um número: ')\n",
        "numeros = []\n",
        "positivo = []\n",
        "negativo = []\n",
        "\n",
        "while(num.isdigit() == True):\n",
        "  numeros.append(num)\n",
        "  cont += 1\n",
        "  num = input('Insira um número:')\n",
        "\n",
        "soma = sum(numeros)\n",
        "media = soma/cont\n",
        "print(f'A média dos números é: {media}')\n",
        "\n",
        "for num in numeros:\n",
        "  if(num >= 0):\n",
        "    positivo.append(num)\n",
        "  else:\n",
        "    negativo.append(num)\n",
        "print(f'Os positivos são: {positivo}; e os negativos são: {negativo}')"
      ],
      "metadata": {
        "id": "J0qAnUq046DW"
      },
      "execution_count": null,
      "outputs": []
    },
    {
      "cell_type": "code",
      "source": [
        "#Questão 06: Escreva um algoritmo que lê uma quantidade desconhecida de números e contabilize quantos estão nos intervalos a seguir: [1-25], [26-50], [51-75], [76-100]. \n",
        "##O input de dados deve parar quando for digitado o número 0.\n",
        "\n",
        "num = int(input('Digite um número de 1 a 100: '))\n",
        "numeros = []\n",
        "int1 = 0\n",
        "int2 = 0\n",
        "int3 = 0\n",
        "int4 = 0\n",
        "\n",
        "while(num != 0):\n",
        "  numeros.append(num)\n",
        "  num = int(input('Digite um número: '))\n",
        "\n",
        "for num in numeros:\n",
        "  if(num >= 76 && num <= 100):\n",
        "    int4 += 1\n",
        "  elif(num >= 51 && num <= 75):\n",
        "    int3 += 1\n",
        "  elif(num >= 26 && num <= 50):\n",
        "    int2 += 1\n",
        "  else:\n",
        "    int1 += 1\n",
        "\n",
        "print(int1, int2, int3, int4)"
      ],
      "metadata": {
        "id": "kSD-tbUnIXVJ"
      },
      "execution_count": null,
      "outputs": []
    },
    {
      "cell_type": "code",
      "source": [
        "#Questão 07: Faça um algoritmo que escreve os números ímpares entre 50 e 150\n",
        "\n",
        "num = 50\n",
        "numeros = []\n",
        "\n",
        "while(num <= 150):\n",
        "  if(num % 2 == 0):\n",
        "    num += 1\n",
        "  else:\n",
        "    numeros.append(num)\n",
        "    num += 1\n",
        "\n",
        "print(numeros)"
      ],
      "metadata": {
        "id": "qskLiIomLVT_"
      },
      "execution_count": null,
      "outputs": []
    },
    {
      "cell_type": "code",
      "source": [
        "#Questão 08:Faça um algoritmo que permita ao usuário informar a idade de quantas pessoas ele desejar (para quando ele digitar um caractere ou string). \n",
        "##Após isso o algoritmo deve informar a soma das pessoas maiores de idade e a média de idade das pessoas maiores de idade informadas.\n",
        "\n",
        "cont = 0\n",
        "id= int(input('Insira uma idade: '))\n",
        "adulto = []\n",
        "crianca = []\n",
        "while(id.isdigit == True):\n",
        "  if(num >= 18):\n",
        "    adulto += 1\n",
        "  else:\n",
        "    crianca.append(id)\n",
        "    cont += 1\n",
        "\n",
        "media = (sum(crianca))/cont\n",
        "\n",
        "print(f'A soma das pessoas de maior é: {adulto}')\n",
        "print(f'A média de idade das pessoas de menor é: {media}')"
      ],
      "metadata": {
        "id": "tOBYjp19OTIA"
      },
      "execution_count": null,
      "outputs": []
    },
    {
      "cell_type": "code",
      "source": [
        "#Questão 09:A sequência de Fibonacci é uma sucessão de números que, aparece em muitos fenômenos da natureza. \n",
        "#Descrita no final do século 12 pelo italiano Leonardo Fibonacci, ela é infinita e começa com 0 e 1. \n",
        "#Os números seguintes são sempre a soma dos dois números anteriores. Assim a sequência fica: {0, 1, 1, 2, 3, 5, 8, 13, 21, 34…}”.\n",
        "#Escreva um algoritmo que imprima na tela os n primeiros elementos da sequência de Fibonacci, onde n é informado pelo usuário.\n",
        "\n"
      ],
      "metadata": {
        "id": "hJXCr7MHQW2Y"
      },
      "execution_count": null,
      "outputs": []
    }
  ]
}