{
  "nbformat": 4,
  "nbformat_minor": 0,
  "metadata": {
    "colab": {
      "provenance": [],
      "authorship_tag": "ABX9TyOQqAkpfXX4msxA5R4wuhKv",
      "include_colab_link": true
    },
    "kernelspec": {
      "name": "python3",
      "display_name": "Python 3"
    },
    "language_info": {
      "name": "python"
    }
  },
  "cells": [
    {
      "cell_type": "markdown",
      "metadata": {
        "id": "view-in-github",
        "colab_type": "text"
      },
      "source": [
        "<a href=\"https://colab.research.google.com/github/joaopedroang/Colaboratory/blob/main/Aula_08.ipynb\" target=\"_parent\"><img src=\"https://colab.research.google.com/assets/colab-badge.svg\" alt=\"Open In Colab\"/></a>"
      ]
    },
    {
      "cell_type": "code",
      "execution_count": null,
      "metadata": {
        "colab": {
          "base_uri": "https://localhost:8080/"
        },
        "id": "uZvmas6CGz3Q",
        "outputId": "dde3c6de-61dd-411b-8137-b37f09d13754"
      },
      "outputs": [
        {
          "output_type": "stream",
          "name": "stdout",
          "text": [
            "['Zé', 'Tião', 'Joaquim', 'Júlia', 'Ana', 'Zabé', 'Maria']\n"
          ]
        }
      ],
      "source": [
        "# Para adicionar um elemento a uma lista: '.append()';\n",
        "\n",
        "nomes=['Zé', 'Tião', 'Joaquim']\n",
        "nomes.append('Júlia')\n",
        "\n",
        "# Para adicionar vários elementos a uma lista: '.extend()';\n",
        "\n",
        "outrosNomes=['Ana', 'Zabé', 'Maria']\n",
        "nomes.extend(outrosNomes)\n",
        "\n",
        "print(nomes)"
      ]
    },
    {
      "cell_type": "code",
      "source": [
        "# Para remover o primerio elemento de uma lista: '.remove()';\n",
        "# Para remover o último elemento de uma lista: '.pop()';\n",
        "\n",
        "numeros = [2, 4, 1, 6, 9, 12]\n",
        "numeros.remove(numeros[0])\n",
        "numeros.pop()\n",
        "\n",
        "print(numeros)"
      ],
      "metadata": {
        "colab": {
          "base_uri": "https://localhost:8080/"
        },
        "id": "-_b5xv_fdaDM",
        "outputId": "c77c0f9b-7157-43a0-d161-8c28fb80c157"
      },
      "execution_count": null,
      "outputs": [
        {
          "output_type": "stream",
          "name": "stdout",
          "text": [
            "[4, 1, 6, 9]\n"
          ]
        }
      ]
    },
    {
      "cell_type": "code",
      "source": [
        "# Para ordenar elementos em ordem crescente: '.sort()';\n",
        "# Para ordenar elementos em ordem decrescente: '.sorte(reverse=True)';\n",
        "\n",
        "notas=[2, 10, 9, 4, 7, 3, 8];\n",
        "notas.sort(reverse=True);\n",
        "print(notas);"
      ],
      "metadata": {
        "colab": {
          "base_uri": "https://localhost:8080/"
        },
        "id": "57jcz4TqeXHE",
        "outputId": "e48e2903-e918-4c64-901d-3c49f942d4c4"
      },
      "execution_count": null,
      "outputs": [
        {
          "output_type": "stream",
          "name": "stdout",
          "text": [
            "[10, 9, 8, 7, 4, 3, 2]\n"
          ]
        }
      ]
    },
    {
      "cell_type": "code",
      "source": [
        "# Pegar os números de uma lista;\n",
        "# Criar outra lista com o dobro;\n",
        "\n",
        "nums = [6, 5, 2, 1 ,7]\n",
        "def dobro(lista):\n",
        "  dobrolista = []\n",
        "  for n in lista:\n",
        "    dobrolista.append(n*2)\n",
        "  return dobrolista\n",
        "\n",
        "dobro(nums)"
      ],
      "metadata": {
        "colab": {
          "base_uri": "https://localhost:8080/"
        },
        "id": "C4az-roYlfPK",
        "outputId": "f31f53d8-a371-4b2b-fe68-48a86ce2bded"
      },
      "execution_count": null,
      "outputs": [
        {
          "output_type": "execute_result",
          "data": {
            "text/plain": [
              "[12, 10, 4, 2, 14]"
            ]
          },
          "metadata": {},
          "execution_count": 8
        }
      ]
    },
    {
      "cell_type": "code",
      "source": [
        "## Outra forma mais simples:\n",
        "\n",
        "newList = list(map(lambda x: x*2, nums))\n",
        "\n",
        "newList"
      ],
      "metadata": {
        "colab": {
          "base_uri": "https://localhost:8080/"
        },
        "id": "F4wIv9gimzWr",
        "outputId": "e3dea1e9-38b3-4e9f-f5a1-a021ceb20027"
      },
      "execution_count": null,
      "outputs": [
        {
          "output_type": "execute_result",
          "data": {
            "text/plain": [
              "[12, 10, 4, 2, 14]"
            ]
          },
          "metadata": {},
          "execution_count": 10
        }
      ]
    },
    {
      "cell_type": "code",
      "source": [
        "# 1) Recebe os valores de uma lista numérica e retorna o quadrado\n",
        "\n",
        "nums = [6, 5, 2, 1 ,7]\n",
        "quadrado = list(map(lambda x: x*x, nums))\n",
        "\n",
        "quadrado"
      ],
      "metadata": {
        "colab": {
          "base_uri": "https://localhost:8080/"
        },
        "id": "baY6dQmon55_",
        "outputId": "af6cd134-4865-4588-bd41-63bdeec1ac54"
      },
      "execution_count": null,
      "outputs": [
        {
          "output_type": "execute_result",
          "data": {
            "text/plain": [
              "[36, 25, 4, 1, 49]"
            ]
          },
          "metadata": {},
          "execution_count": 20
        }
      ]
    },
    {
      "cell_type": "code",
      "source": [
        "# 2) Recebe uma lista de nomes e retorna o tamanho de cada nome\n",
        "\n",
        "frutas = ['banana', 'pera', 'uva', 'cajá', 'manga']\n",
        "caracteres = list(map(lambda x: len(x), frutas))\n",
        "\n",
        "caracteres"
      ],
      "metadata": {
        "colab": {
          "base_uri": "https://localhost:8080/"
        },
        "id": "dlKyEmP5o8sb",
        "outputId": "5f195042-20b0-47f2-9ced-8dd95e798324"
      },
      "execution_count": null,
      "outputs": [
        {
          "output_type": "execute_result",
          "data": {
            "text/plain": [
              "[6, 4, 3, 4, 5]"
            ]
          },
          "metadata": {},
          "execution_count": 35
        }
      ]
    },
    {
      "cell_type": "code",
      "source": [
        "# 3) Recebe os preços de uma lista e adiciona 2 a cada um deles\n",
        "\n",
        "precos = [9.99, 2.50, 3.45, 7.00, 10.99]\n",
        "\n",
        "adicionarDois = list(map(lambda x: x+2.00, precos))\n",
        "adicionarDois"
      ],
      "metadata": {
        "colab": {
          "base_uri": "https://localhost:8080/"
        },
        "id": "fjx_L7v0tSfI",
        "outputId": "fb48dd9b-060b-406d-f726-cb542b25be7f"
      },
      "execution_count": null,
      "outputs": [
        {
          "output_type": "execute_result",
          "data": {
            "text/plain": [
              "[11.99, 4.5, 5.45, 9.0, 12.99]"
            ]
          },
          "metadata": {},
          "execution_count": 38
        }
      ]
    },
    {
      "cell_type": "code",
      "source": [
        "# 4) Recebe uma lista de números e retorna apenas os números pares\n",
        "\n",
        "numeros = [7, 3, 1, 4, 8, 23, 12]\n",
        "pares = list(filter(lambda x: x%2==0, numeros))\n",
        "\n",
        "pares"
      ],
      "metadata": {
        "colab": {
          "base_uri": "https://localhost:8080/"
        },
        "id": "WBMtQsQBsYis",
        "outputId": "c3862472-c925-48df-af07-f4c9d5fc5bba"
      },
      "execution_count": null,
      "outputs": [
        {
          "output_type": "execute_result",
          "data": {
            "text/plain": [
              "[4, 8, 12]"
            ]
          },
          "metadata": {},
          "execution_count": 37
        }
      ]
    },
    {
      "cell_type": "code",
      "source": [
        "# 5) Recebe uma lista de nomes e retona apenas os que comecem com a letra 'a'\n",
        "\n",
        "nomes = ['fada', 'arado', 'miragem', 'atalho', 'alho']\n",
        "letraA = list(filter(lambda x: x[0] == 'a', nomes))\n",
        "\n",
        "letraA"
      ],
      "metadata": {
        "colab": {
          "base_uri": "https://localhost:8080/"
        },
        "id": "lSGhtQNGtFT1",
        "outputId": "81268471-e682-47d3-919a-97c69f14cb56"
      },
      "execution_count": null,
      "outputs": [
        {
          "output_type": "execute_result",
          "data": {
            "text/plain": [
              "['arado', 'atalho', 'alho']"
            ]
          },
          "metadata": {},
          "execution_count": 39
        }
      ]
    },
    {
      "cell_type": "code",
      "source": [
        "# 6) Recebe uma lista de notas e retorna apenas as maiores de 7\n",
        "\n",
        "notas = [5, 6.5, 7.5, 9, 8, 2, 6]\n",
        "aprovados = list(filter(lambda x: x>= 7, notas))\n",
        "\n",
        "aprovados"
      ],
      "metadata": {
        "colab": {
          "base_uri": "https://localhost:8080/"
        },
        "id": "DNN-3C00ujib",
        "outputId": "c982df71-0b7c-48b0-f467-ae51b13bc30b"
      },
      "execution_count": null,
      "outputs": [
        {
          "output_type": "execute_result",
          "data": {
            "text/plain": [
              "[7.5, 9, 8]"
            ]
          },
          "metadata": {},
          "execution_count": 40
        }
      ]
    },
    {
      "cell_type": "code",
      "source": [
        "# 7) Recebe uma lista de nomes e retorna apenas os que começam com vogal\n",
        "\n",
        "palavras = ['zangão', 'batata', 'ameixa', 'estrago', 'fanta', 'unha', 'ovo']\n",
        "vogal = list(filter(lambda x: x[0].upper() in 'AEIOU', palavras))\n",
        "\n",
        "vogal"
      ],
      "metadata": {
        "colab": {
          "base_uri": "https://localhost:8080/"
        },
        "id": "_utVdnO9vIqD",
        "outputId": "0e319b94-8635-4354-8853-e8ad25d1732e"
      },
      "execution_count": null,
      "outputs": [
        {
          "output_type": "execute_result",
          "data": {
            "text/plain": [
              "['ameixa', 'estrago', 'unha', 'ovo']"
            ]
          },
          "metadata": {},
          "execution_count": 42
        }
      ]
    },
    {
      "cell_type": "code",
      "source": [
        "# 8) Recebe uma lista de números e retorna apenas os que são divisíveis por 3 e 5\n",
        "\n",
        "num = [2, 3, 15, 30, 23, 60, 2, 45]\n",
        "div = list(filter(lambda x: x%3 == 0 and x%5 == 0, num))\n",
        "\n",
        "div"
      ],
      "metadata": {
        "colab": {
          "base_uri": "https://localhost:8080/"
        },
        "id": "WAJd8xHLwBDa",
        "outputId": "dd0d9c6b-31c6-48d6-ea24-e72ea609c9ed"
      },
      "execution_count": null,
      "outputs": [
        {
          "output_type": "execute_result",
          "data": {
            "text/plain": [
              "[15, 30, 60, 45]"
            ]
          },
          "metadata": {},
          "execution_count": 43
        }
      ]
    },
    {
      "cell_type": "code",
      "source": [
        "# 9) Recebe uma lista de nomes e retorna apenas os que iniciam com letra maiúscula\n",
        "\n",
        "nomes = ['zangão', 'Zico', 'ameixa', 'Flamengo', 'fanta', 'unha', 'ovo']\n",
        "maiuscula = list(filter(lambda x: x[0].isupper(), nomes))\n",
        "\n",
        "maiuscula"
      ],
      "metadata": {
        "colab": {
          "base_uri": "https://localhost:8080/"
        },
        "id": "UMpN3VEOwpgm",
        "outputId": "413ae476-e402-42c3-d5c2-b51733bb7ee0"
      },
      "execution_count": null,
      "outputs": [
        {
          "output_type": "execute_result",
          "data": {
            "text/plain": [
              "['Zico', 'Flamengo']"
            ]
          },
          "metadata": {},
          "execution_count": 44
        }
      ]
    },
    {
      "cell_type": "code",
      "source": [
        "# 10) Recebe uma lista de strings e retorna apenas as iniciais de cada string\n",
        "\n",
        "nomes = ['zangão', 'Zico', 'ameixa', 'Flamengo', 'fanta', 'unha', 'ovo']\n",
        "iniciais = list(map(lambda x: x[0], nomes))\n",
        "\n",
        "iniciais"
      ],
      "metadata": {
        "colab": {
          "base_uri": "https://localhost:8080/"
        },
        "id": "20UapbT1xXAr",
        "outputId": "c6632d67-e902-4e1c-8366-098d4c426811"
      },
      "execution_count": null,
      "outputs": [
        {
          "output_type": "execute_result",
          "data": {
            "text/plain": [
              "['z', 'Z', 'a', 'F', 'f', 'u', 'o']"
            ]
          },
          "metadata": {},
          "execution_count": 46
        }
      ]
    },
    {
      "cell_type": "code",
      "source": [
        "# 11) Recebe uma lista de números e retorna o quadrado apenas dos números pares\n",
        "\n",
        "lista = [2, 3, 4, 1, 23, 6, 3]\n",
        "pares = list(filter(lambda x: x%2 == 0, lista))\n",
        "dobroPares = list(map(lambda x: x*x, pares))\n",
        "\n",
        "dobroPares"
      ],
      "metadata": {
        "colab": {
          "base_uri": "https://localhost:8080/"
        },
        "id": "pOTbWy9yxzAB",
        "outputId": "bfb2ea81-af07-446c-dbe9-505b28655ac2"
      },
      "execution_count": 3,
      "outputs": [
        {
          "output_type": "execute_result",
          "data": {
            "text/plain": [
              "[4, 16, 36]"
            ]
          },
          "metadata": {},
          "execution_count": 3
        }
      ]
    }
  ]
}