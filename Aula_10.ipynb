{
  "nbformat": 4,
  "nbformat_minor": 0,
  "metadata": {
    "colab": {
      "provenance": [],
      "authorship_tag": "ABX9TyOKhB8Pj78IO2aa180rLpgn",
      "include_colab_link": true
    },
    "kernelspec": {
      "name": "python3",
      "display_name": "Python 3"
    },
    "language_info": {
      "name": "python"
    }
  },
  "cells": [
    {
      "cell_type": "markdown",
      "metadata": {
        "id": "view-in-github",
        "colab_type": "text"
      },
      "source": [
        "<a href=\"https://colab.research.google.com/github/joaopedroang/Colaboratory/blob/main/Aula_10.ipynb\" target=\"_parent\"><img src=\"https://colab.research.google.com/assets/colab-badge.svg\" alt=\"Open In Colab\"/></a>"
      ]
    },
    {
      "cell_type": "code",
      "execution_count": null,
      "metadata": {
        "id": "x4cDvL26TkuQ"
      },
      "outputs": [],
      "source": [
        "# 1) O dicionário a seguir contém uma relação de atletas e seus respectivos tempos em uma corrida de 100 metros.\n",
        "corrida100m = {'Zé': 10, 'marco': 9.9, 'Marta': 9.98, 'Lourdes': 10.2}\n",
        "# Crie um código em python que retorna:\n",
        "# a) Quem chegou primeiro\n",
        "# b) Quem chegou por último\n",
        "# c) Ordene os atletas do primeiro ao último lugar."
      ]
    },
    {
      "cell_type": "code",
      "source": [
        "# 2) Escreva uma função que receba dois dicionários como entrada e retorne um novo dicionário contendo a união dos dois dicionários."
      ],
      "metadata": {
        "id": "kOHNcqDycU7b"
      },
      "execution_count": null,
      "outputs": []
    },
    {
      "cell_type": "code",
      "source": [
        "# 3) Faça um dicionário contendo, incialmente, 5 produtos de beleza, deve ter nome do produto, marca, preço e breve descrição\n",
        "# por exemplo: { 'nome': 'batom', 'marca': 'avon', 'preco': 10.99, 'descricao' : 'Batom vermelho impermeável' } "
      ],
      "metadata": {
        "id": "rNi0gO_6cY3e"
      },
      "execution_count": null,
      "outputs": []
    },
    {
      "cell_type": "code",
      "source": [
        "# 4) Em um concurso foram aplicadas duas provas A e B, das quais o resultado foi o seguinte:\n",
        "provaA = {'Andre': 8.5, 'Ana': 7.0, 'Chico': 6.5, 'Nubia': 10, 'Luana': 8}\n",
        "provaB = {'Julio': 5.5, 'Aristides': 6.0, 'Sebastiana': 9.5, 'Camila': 10, 'João': 6}"
      ],
      "metadata": {
        "id": "MgrP70PzclA2"
      },
      "execution_count": 1,
      "outputs": []
    },
    {
      "cell_type": "code",
      "source": [
        "# a) Crie num novo dicionário resultado_final, o qual é a junção dos dois dicionários provaA e provaB\n",
        "resultado_final={}\n",
        "resultado_final.update(provaA)\n",
        "resultado_final.update(provaB)\n",
        "\n",
        "resultado_final"
      ],
      "metadata": {
        "colab": {
          "base_uri": "https://localhost:8080/"
        },
        "id": "hfwrY5pudwC0",
        "outputId": "06bc9c74-4227-477c-8587-1748a354d4ed"
      },
      "execution_count": 11,
      "outputs": [
        {
          "output_type": "execute_result",
          "data": {
            "text/plain": [
              "{'Andre': 8.5,\n",
              " 'Ana': 7.0,\n",
              " 'Chico': 6.5,\n",
              " 'Nubia': 10,\n",
              " 'Luana': 8,\n",
              " 'Julio': 5.5,\n",
              " 'Aristides': 6.0,\n",
              " 'Sebastiana': 9.5,\n",
              " 'Camila': 10,\n",
              " 'João': 6}"
            ]
          },
          "metadata": {},
          "execution_count": 11
        }
      ]
    },
    {
      "cell_type": "code",
      "source": [
        "# b) Ordene o dicionário da maior para a menor nota\n",
        "sorted(resultado_final, key = resultado_final.get, reverse = True)"
      ],
      "metadata": {
        "colab": {
          "base_uri": "https://localhost:8080/"
        },
        "id": "m5vKxCU8eATD",
        "outputId": "a0002c61-d20c-4f20-d28c-83e8a3e7b36c"
      },
      "execution_count": 26,
      "outputs": [
        {
          "output_type": "execute_result",
          "data": {
            "text/plain": [
              "['Nubia',\n",
              " 'Camila',\n",
              " 'Sebastiana',\n",
              " 'Andre',\n",
              " 'Luana',\n",
              " 'Ana',\n",
              " 'Chico',\n",
              " 'Aristides',\n",
              " 'João',\n",
              " 'Julio']"
            ]
          },
          "metadata": {},
          "execution_count": 26
        }
      ]
    },
    {
      "cell_type": "code",
      "source": [
        "for nome, nota in resultado_final.items():\n",
        "  print (f'{nome} = {nota}')"
      ],
      "metadata": {
        "colab": {
          "base_uri": "https://localhost:8080/"
        },
        "id": "paV2ApIBgh6Y",
        "outputId": "8640d738-3a86-486c-e95f-3dd442fdd3ac"
      },
      "execution_count": 30,
      "outputs": [
        {
          "output_type": "stream",
          "name": "stdout",
          "text": [
            "Andre = 8.5\n",
            "Ana = 7.0\n",
            "Chico = 6.5\n",
            "Nubia = 10\n",
            "Luana = 8\n",
            "Julio = 5.5\n",
            "Aristides = 6.0\n",
            "Sebastiana = 9.5\n",
            "Camila = 10\n",
            "João = 6\n"
          ]
        }
      ]
    },
    {
      "cell_type": "code",
      "source": [
        "# c) O Gerente da comissão do concurso precisa de uma lista apenas com os nomes dos candidatos.\n",
        "candidatos = list(resultado_final.keys())\n",
        "candidatos"
      ],
      "metadata": {
        "colab": {
          "base_uri": "https://localhost:8080/"
        },
        "id": "yYq_W2rPgVov",
        "outputId": "c369635e-4553-4394-b390-9bc39662be32"
      },
      "execution_count": 33,
      "outputs": [
        {
          "output_type": "execute_result",
          "data": {
            "text/plain": [
              "['Andre',\n",
              " 'Ana',\n",
              " 'Chico',\n",
              " 'Nubia',\n",
              " 'Luana',\n",
              " 'Julio',\n",
              " 'Aristides',\n",
              " 'Sebastiana',\n",
              " 'Camila',\n",
              " 'João']"
            ]
          },
          "metadata": {},
          "execution_count": 33
        }
      ]
    },
    {
      "cell_type": "code",
      "source": [
        "# d) O analista de dados precisa de uma lista apenas com as notas das provas.\n",
        "notas = list(resultado_final.values())\n",
        "notas"
      ],
      "metadata": {
        "colab": {
          "base_uri": "https://localhost:8080/"
        },
        "id": "VVfkY-SyiBcn",
        "outputId": "4e7695f4-ea28-4b72-bb36-d41ca4b9013f"
      },
      "execution_count": 35,
      "outputs": [
        {
          "output_type": "execute_result",
          "data": {
            "text/plain": [
              "[8.5, 7.0, 6.5, 10, 8, 5.5, 6.0, 9.5, 10, 6]"
            ]
          },
          "metadata": {},
          "execution_count": 35
        }
      ]
    },
    {
      "cell_type": "code",
      "source": [
        "# e) Querem disponibilizar um recurso, no qual se insere um nome de candidato e retorna a sua nota. Caso o candidato não exista, exibir a mensagem \"Candidato inexistente\".\n",
        "def candidato_nota(dicNotas, nome):\n",
        "  if nome in dicNotas:\n",
        "    return dicNotas[nome]\n",
        "  else:\n",
        "    return 'Candidato inexistente'"
      ],
      "metadata": {
        "id": "aO2XAv20iX-i"
      },
      "execution_count": 63,
      "outputs": []
    },
    {
      "cell_type": "code",
      "source": [
        "nomeCandidato = input('Digite seu nome: ')\n",
        "notaCandidato = candidato_nota(resultado_final, nomeCandidato)\n",
        "print (notaCandidato)"
      ],
      "metadata": {
        "colab": {
          "base_uri": "https://localhost:8080/"
        },
        "id": "Tp9Wk3w2kQNK",
        "outputId": "72e80b98-80a2-4f4b-cdd1-a746eca99d87"
      },
      "execution_count": 66,
      "outputs": [
        {
          "output_type": "stream",
          "name": "stdout",
          "text": [
            "Digite seu nome: Camila\n",
            "10\n"
          ]
        }
      ]
    }
  ]
}