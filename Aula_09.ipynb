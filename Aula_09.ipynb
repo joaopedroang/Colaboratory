{
  "nbformat": 4,
  "nbformat_minor": 0,
  "metadata": {
    "colab": {
      "provenance": [],
      "authorship_tag": "ABX9TyN4gglSaiaknEnPoh1iGIaI",
      "include_colab_link": true
    },
    "kernelspec": {
      "name": "python3",
      "display_name": "Python 3"
    },
    "language_info": {
      "name": "python"
    }
  },
  "cells": [
    {
      "cell_type": "markdown",
      "metadata": {
        "id": "view-in-github",
        "colab_type": "text"
      },
      "source": [
        "<a href=\"https://colab.research.google.com/github/joaopedroang/Colaboratory/blob/main/Aula_09.ipynb\" target=\"_parent\"><img src=\"https://colab.research.google.com/assets/colab-badge.svg\" alt=\"Open In Colab\"/></a>"
      ]
    },
    {
      "cell_type": "markdown",
      "source": [
        "TUPLAS "
      ],
      "metadata": {
        "id": "mjyHnqvgWXsM"
      }
    },
    {
      "cell_type": "code",
      "execution_count": 1,
      "metadata": {
        "colab": {
          "base_uri": "https://localhost:8080/"
        },
        "id": "YA3X5XKSPWUR",
        "outputId": "98bb9ce2-79e7-4dd8-d8ed-065ded727b2f"
      },
      "outputs": [
        {
          "output_type": "execute_result",
          "data": {
            "text/plain": [
              "('maçã', 'banana', 'laranja', 'goiaba')"
            ]
          },
          "metadata": {},
          "execution_count": 1
        }
      ],
      "source": [
        "tp_frutas = ('maçã', 'banana', 'laranja', 'goiaba')\n",
        "tp_frutas"
      ]
    },
    {
      "cell_type": "code",
      "source": [
        "# Tente inserir ou modificar algum elemento na tupla: \n",
        "\n",
        "tp_frutas.append('uva')\n",
        "\n",
        "tp_frutas"
      ],
      "metadata": {
        "id": "qA7a1nvNU1yN"
      },
      "execution_count": null,
      "outputs": []
    },
    {
      "cell_type": "markdown",
      "source": [
        "Tuplas são coleçôes ordenadas e imutáveis de elementos em Python e podem conter qualquer tipo de dado, incluindo números, strings, booleanos, listas e até outras tuplas.\n"
      ],
      "metadata": {
        "id": "yRA1aRYEV_7b"
      }
    },
    {
      "cell_type": "code",
      "source": [
        "lst_frutas = list(tp_frutas)\n",
        "lst_frutas"
      ],
      "metadata": {
        "colab": {
          "base_uri": "https://localhost:8080/"
        },
        "id": "9HJ_WI3cV7ek",
        "outputId": "ced940fb-9652-4d8e-8ac3-c53d98c95539"
      },
      "execution_count": 4,
      "outputs": [
        {
          "output_type": "execute_result",
          "data": {
            "text/plain": [
              "['maçã', 'banana', 'laranja', 'goiaba']"
            ]
          },
          "metadata": {},
          "execution_count": 4
        }
      ]
    },
    {
      "cell_type": "code",
      "source": [
        "# Fatiamento (Slicing):\n",
        "tp_meses = ('jan', 'fev', 'mar', 'abr', 'mai', 'jun', 'jul', 'ago', 'set', 'out', 'nov', 'dez')"
      ],
      "metadata": {
        "id": "QW5rbpqBXYwh"
      },
      "execution_count": 21,
      "outputs": []
    },
    {
      "cell_type": "code",
      "source": [
        "# Usando o processo de fatiamento, crie uma tupla apenas com os meses do segundo trimestre\n",
        "tp_meses[3:6]"
      ],
      "metadata": {
        "colab": {
          "base_uri": "https://localhost:8080/"
        },
        "id": "ZR4Nl2t5Zhia",
        "outputId": "42583de6-73ce-4c49-d2c9-cc59da441e28"
      },
      "execution_count": 22,
      "outputs": [
        {
          "output_type": "execute_result",
          "data": {
            "text/plain": [
              "('abr', 'mai', 'jun')"
            ]
          },
          "metadata": {},
          "execution_count": 22
        }
      ]
    },
    {
      "cell_type": "code",
      "source": [
        "# Ordenação de dados *sort(value, key = x)\n",
        "# Ordenar os estados pelo DDD e não pelo nome\n",
        "uf_cod = [('PE', 81), ('RJ', 21), ('SP', 11), ('PB', 83), ('MT', 65), ('AL', 82)]\n",
        "sorted(uf_cod, key = lambda x: x[1])"
      ],
      "metadata": {
        "colab": {
          "base_uri": "https://localhost:8080/"
        },
        "id": "DwCzwcezaYTX",
        "outputId": "5a72f31b-3ca3-414d-e199-1515d96ec186"
      },
      "execution_count": 12,
      "outputs": [
        {
          "output_type": "execute_result",
          "data": {
            "text/plain": [
              "[('SP', 11), ('RJ', 21), ('MT', 65), ('PE', 81), ('AL', 82), ('PB', 83)]"
            ]
          },
          "metadata": {},
          "execution_count": 12
        }
      ]
    },
    {
      "cell_type": "code",
      "source": [
        "# Coloque a tupla a seguir em ordem:\n",
        "nome_nasc = [('Zé', 2003), ('Maria', 1998), ('Alice', 2000)]"
      ],
      "metadata": {
        "id": "E029zCzdcqpx"
      },
      "execution_count": 17,
      "outputs": []
    },
    {
      "cell_type": "code",
      "source": [
        "# do mais novo para o mais velho\n",
        "sorted(nome_nasc, key = lambda x: x[1], reverse = True)"
      ],
      "metadata": {
        "colab": {
          "base_uri": "https://localhost:8080/"
        },
        "id": "JlAm2xOCdc-j",
        "outputId": "eb052b4f-a959-4fab-ff2d-6d3f9bffa67a"
      },
      "execution_count": 19,
      "outputs": [
        {
          "output_type": "execute_result",
          "data": {
            "text/plain": [
              "[('Zé', 2003), ('Alice', 2000), ('Maria', 1998)]"
            ]
          },
          "metadata": {},
          "execution_count": 19
        }
      ]
    },
    {
      "cell_type": "code",
      "source": [
        "# do mais velho para o mais novo\n",
        "sorted(nome_nasc, key = lambda x: x[1])"
      ],
      "metadata": {
        "colab": {
          "base_uri": "https://localhost:8080/"
        },
        "id": "CNMlG6Vzd2_9",
        "outputId": "f0190fbe-e1a6-423e-d670-0f938edc0c62"
      },
      "execution_count": 20,
      "outputs": [
        {
          "output_type": "execute_result",
          "data": {
            "text/plain": [
              "[('Maria', 1998), ('Alice', 2000), ('Zé', 2003)]"
            ]
          },
          "metadata": {},
          "execution_count": 20
        }
      ]
    },
    {
      "cell_type": "code",
      "source": [
        "# Desempacotamento de valores\n",
        "def nome_idade_uf():\n",
        "  nome = \"José\"\n",
        "  idade = 28\n",
        "  uf = 'RN'\n",
        "  return nome, idade, uf\n",
        "\n",
        "name, age, uf = nome_idade_uf()\n",
        "print(name, age, uf)"
      ],
      "metadata": {
        "colab": {
          "base_uri": "https://localhost:8080/"
        },
        "id": "UxOWJE4jeH4-",
        "outputId": "a7226040-e1ad-48db-cbba-095506fe44fc"
      },
      "execution_count": 28,
      "outputs": [
        {
          "output_type": "stream",
          "name": "stdout",
          "text": [
            "José 28 RN\n"
          ]
        }
      ]
    },
    {
      "cell_type": "markdown",
      "source": [
        "A função zip() é utilizada para combinar elementos de duas ou mais sequências em pares ordenados. Ela retorna um iterador que pode ser convertido em uma lista, tupla ou outro tipo de coleção."
      ],
      "metadata": {
        "id": "_DUoL6pOnqlU"
      }
    },
    {
      "cell_type": "code",
      "source": [
        "# Mapeamento de valores \n",
        "alunos = ('Kelly', 'Adauto', 'Marceline', 'Luana', 'Henrique')\n",
        "notas = (5.5, 8, 9, 7.5, 6.5)\n",
        "\n",
        "Av1 = tuple(zip(alunos, notas))\n",
        "dc_av1"
      ],
      "metadata": {
        "colab": {
          "base_uri": "https://localhost:8080/"
        },
        "id": "2mASuepzmLOf",
        "outputId": "7d7c8621-61a9-43c7-b0f2-45830b800de0"
      },
      "execution_count": 58,
      "outputs": [
        {
          "output_type": "execute_result",
          "data": {
            "text/plain": [
              "(('Kelly', 5.5),\n",
              " ('Adauto', 8),\n",
              " ('Marceline', 9),\n",
              " ('Luana', 7.5),\n",
              " ('Henrique', 6.5))"
            ]
          },
          "metadata": {},
          "execution_count": 58
        }
      ]
    },
    {
      "cell_type": "code",
      "source": [
        "# 1) Escreva uma função que receba duas tuplas como entrada e retorne \n",
        "# uma única tupla que seja a concatenação das duas\n",
        "def concatenaTupla (tp1, tp2):\n",
        "  return tp1 + tp2\n",
        "\n",
        "a = (2, 4, 6)\n",
        "b = (8, 10, 12)\n",
        "concatenaTupla(a, b)"
      ],
      "metadata": {
        "colab": {
          "base_uri": "https://localhost:8080/"
        },
        "id": "z2Wi5n3Wn4ds",
        "outputId": "26a2fe65-b292-4b76-838b-697a1cda0008"
      },
      "execution_count": 66,
      "outputs": [
        {
          "output_type": "execute_result",
          "data": {
            "text/plain": [
              "(2, 4, 6, 8, 10, 12)"
            ]
          },
          "metadata": {},
          "execution_count": 66
        }
      ]
    },
    {
      "cell_type": "code",
      "source": [
        "# 2) Escreva uma função que receba uma tupla contendo o nome e endereço:\n",
        "# logradouro, número e bairro de uma pessoa e retorne uma string formatada.\n",
        "\n",
        "def formatada(tupla):\n",
        "  nome, logradouro, num, bairro = tupla\n",
        "  return f'Nome:{nome}, residente a {logradouro}, {num}, {bairro}.'\n",
        "\n",
        "dados = ('João Pedro', 'Rua Vigolvino Florentino Costa', 549, 'Manaíra')\n",
        "print(formatada(dados))"
      ],
      "metadata": {
        "colab": {
          "base_uri": "https://localhost:8080/"
        },
        "id": "tUJDLji3o8uM",
        "outputId": "484a5ce0-7ff4-4361-d5d0-9f03006c4580"
      },
      "execution_count": 64,
      "outputs": [
        {
          "output_type": "stream",
          "name": "stdout",
          "text": [
            "Nome:João Pedro, residente a Rua Vigolvino Florentino Costa, 549, Manaíra.\n"
          ]
        }
      ]
    },
    {
      "cell_type": "code",
      "source": [
        "# 3)Escreva uma função que receba uma lista de tuplas contendo nome e idade\n",
        "# de pessoas e retorne a lista ordenada por idade.\n",
        "def ordemIdade(tp1):\n",
        "  name_age = tuple(zip(nome, idade))\n",
        "  return sorted(name_age, key = lambda x: x[1])\n",
        "\n",
        "nome = ('Kelly', 'Adauto', 'Marceline', 'Luana', 'Henrique')\n",
        "idade = (18, 19, 21, 16, 20)\n",
        "\n",
        "ordemIdade(name_age)"
      ],
      "metadata": {
        "colab": {
          "base_uri": "https://localhost:8080/"
        },
        "id": "-YXIR6r6qnea",
        "outputId": "e460bdf6-49b4-42e1-ca13-465c3064bac1"
      },
      "execution_count": 75,
      "outputs": [
        {
          "output_type": "execute_result",
          "data": {
            "text/plain": [
              "[('Luana', 16),\n",
              " ('Kelly', 18),\n",
              " ('Adauto', 19),\n",
              " ('Henrique', 20),\n",
              " ('Marceline', 21)]"
            ]
          },
          "metadata": {},
          "execution_count": 75
        }
      ]
    }
  ]
}